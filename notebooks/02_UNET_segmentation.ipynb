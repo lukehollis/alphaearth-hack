# U-Net lake segmentation on satellite RGB image

This notebook trains a lightweight U-Net segmentation model on a satellite RGB image (`./data/sattelite_lakes_example.jpg`) using automatically generated pseudo-labels tailored for water/lake detection. It then predicts a full-resolution lake mask and saves visualizations and model weights.

Notes:
- Uses RGB-based heuristics (blue-dominance, low intensity, low saturation, Lab blue channel) + Otsu to derive pseudo-labels for lakes.
- Dependencies: `torch`, `numpy`, `pillow`, `matplotlib`, `scikit-image`.
- Outputs are written to `outputs/unet_lakes/`.
- No try/except is used. Errors will surface directly.

import os
import numpy as np
import torch
from torch import nn
from torch.utils.data import Dataset, DataLoader
from PIL import Image
import matplotlib.pyplot as plt
from skimage import filters, morphology
from skimage.color import rgb2hsv, rgb2lab

# Reproducibility
np.random.seed(0)
torch.manual_seed(0)

device = (
    "cuda" if torch.cuda.is_available() else ("mps" if hasattr(torch.backends, "mps") and torch.backends.mps.is_available() else "cpu")
)
print("Device:", device)

# Configure paths and hyperparameters
image_path = "./data/sattelite_lakes_example.jpg"
out_dir = "outputs/unet_lakes"
os.makedirs(out_dir, exist_ok=True)

patch_size = 256
stride = 128
batch_size = 8
epochs = 5
lr = 1e-3

# Load satellite RGB image, normalize to [0,1] float32
img = Image.open(image_path).convert("RGB")
img_np = np.array(img).astype(np.float32) / 255.0  # [H,W,3] in [0,1]
H, W, C = img_np.shape
print("Image shape:", img_np.shape, "dtype:", img_np.dtype)

plt.figure(figsize=(6,6))
plt.imshow(img_np)
plt.axis("off")
plt.title("Input satellite image (RGB)")
plt.show()

# Generate water pseudo-label mask using RGB/HSV/Lab features + Otsu + morphology cleanup
hsv = rgb2hsv(img_np)          # H in [0,1], S in [0,1], V in [0,1]
lab = rgb2lab(img_np)          # L in [0,100], a in [-128,127], b in [-128,127] (blue-negative, yellow-positive)

R = img_np[..., 0]
G = img_np[..., 1]
B = img_np[..., 2]
I = img_np.mean(axis=2)        # intensity
S = hsv[..., 1]
lab_b = lab[..., 2]            # blue-yellow channel (more negative => bluer)

# Heuristic "water score": prefer blue-dominance, darker, less saturated, more "blue" in Lab
score = (0.6 * (B - R) + 0.4 * (B - G)) - 0.5 * I - 0.2 * S - 0.2 * (lab_b / 100.0)

# Threshold via Otsu on the 2D score field
th = float(filters.threshold_otsu(score))
mask = score > th

# Morphological cleanup: remove small objects/holes, then smooth
mask = morphology.remove_small_objects(mask, min_size=200)
mask = morphology.remove_small_holes(mask, area_threshold=200)
mask = morphology.binary_opening(mask, morphology.disk(2))
mask = morphology.binary_closing(mask, morphology.disk(2))

mask_f = mask.astype(np.float32)

mask_path = os.path.join(out_dir, "pseudo_label_lake_mask.png")
Image.fromarray((mask_f * 255).astype(np.uint8)).save(mask_path)
print("Saved pseudo-label mask:", mask_path)

plt.figure(figsize=(12,6))
plt.subplot(1,2,1); plt.imshow(img_np); plt.title("RGB"); plt.axis("off")
plt.subplot(1,2,2); plt.imshow(mask_f, cmap="gray"); plt.title("Pseudo-label (water)"); plt.axis("off")
plt.show()

# Patch dataset utilities (RGB image + binary mask)
def extract_patches_rgb(img3d, msk2d, size=256, st=128):
    H, W, C = img3d.shape
    xs = []
    ys = []
    for y in range(0, max(H - size + 1, 0), st):
        for x in range(0, max(W - size + 1, 0), st):
            xs.append(img3d[y:y+size, x:x+size, :])
            ys.append(msk2d[y:y+size, x:x+size])
    if len(xs) == 0:
        pad_y = max(0, size - H)
        pad_x = max(0, size - W)
        if pad_y > 0 or pad_x > 0:
            img_pad = np.pad(img3d, ((0, pad_y), (0, pad_x), (0, 0)), mode="edge")
            msk_pad = np.pad(msk2d, ((0, pad_y), (0, pad_x)), mode="edge")
        else:
            img_pad = img3d
            msk_pad = msk2d
        xs.append(img_pad[0:size, 0:size, :])
        ys.append(msk_pad[0:size, 0:size])
    return np.stack(xs, 0), np.stack(ys, 0)

xs_np, ys_np = extract_patches_rgb(img_np, mask_f, size=patch_size, st=stride)
print("Patches:", xs_np.shape)  # [N, size, size, 3]

class PatchDataset(Dataset):
    def __init__(self, xs, ys):
        self.xs = xs
        self.ys = ys
    def __len__(self):
        return self.xs.shape[0]
    def __getitem__(self, idx):
        x = self.xs[idx]           # [H,W,3], float32 in [0,1]
        y = self.ys[idx]           # [H,W], float32 {0,1}
        x_t = torch.from_numpy(x).permute(2,0,1).float()   # [3,H,W]
        y_t = torch.from_numpy(y)[None, ...].float()       # [1,H,W]
        return x_t, y_t

dataset = PatchDataset(xs_np, ys_np)
loader = DataLoader(dataset, batch_size=batch_size, shuffle=True, num_workers=0)
print("Dataset size:", len(dataset))

# Lightweight U-Net model definition (3-channel input)
class DoubleConv(nn.Module):
    def __init__(self, in_ch, out_ch):
        super().__init__()
        self.net = nn.Sequential(
            nn.Conv2d(in_ch, out_ch, 3, padding=1),
            nn.ReLU(inplace=True),
            nn.Conv2d(out_ch, out_ch, 3, padding=1),
            nn.ReLU(inplace=True),
        )
    def forward(self, x):
        return self.net(x)

class Down(nn.Module):
    def __init__(self, in_ch, out_ch):
        super().__init__()
        self.pool = nn.MaxPool2d(2)
        self.conv = DoubleConv(in_ch, out_ch)
    def forward(self, x):
        x = self.pool(x)
        return self.conv(x)

class Up(nn.Module):
    def __init__(self, in_ch, out_ch):
        super().__init__()
        self.up = nn.Upsample(scale_factor=2, mode='bilinear', align_corners=False)
        self.conv = DoubleConv(in_ch, out_ch)
    def forward(self, x1, x2):
        x1 = self.up(x1)
        # pad if necessary to handle odd sizes
        diffY = x2.size(2) - x1.size(2)
        diffX = x2.size(3) - x1.size(3)
        if diffY != 0 or diffX != 0:
            x1 = nn.functional.pad(x1, [diffX // 2, diffX - diffX // 2, diffY // 2, diffY - diffY // 2])
        x = torch.cat([x2, x1], dim=1)
        return self.conv(x)

class UNet(nn.Module):
    def __init__(self, in_ch=3, out_ch=1, base=32):
        super().__init__()
        self.inc = DoubleConv(in_ch, base)
        self.down1 = Down(base, base*2)
        self.down2 = Down(base*2, base*4)
        self.down3 = Down(base*4, base*8)
        self.up1 = Up(base*8 + base*4, base*4)
        self.up2 = Up(base*4 + base*2, base*2)
        self.up3 = Up(base*2 + base, base)
        self.outc = nn.Conv2d(base, out_ch, 1)
    def forward(self, x):
        x1 = self.inc(x)
        x2 = self.down1(x1)
        x3 = self.down2(x2)
        x4 = self.down3(x3)
        x = self.up1(x4, x3)
        x = self.up2(x, x2)
        x = self.up3(x, x1)
        logits = self.outc(x)
        return logits

model = UNet(in_ch=3, out_ch=1, base=32).to(device)
print(model)

# Losses, optimizer, and training loop
bce = nn.BCEWithLogitsLoss()

def dice_loss(logits, targets, eps=1e-6):
    probs = torch.sigmoid(logits)
    num = 2.0 * (probs * targets).sum(dim=(1,2,3))
    den = probs.sum(dim=(1,2,3)) + targets.sum(dim=(1,2,3)) + eps
    return 1.0 - (num / den).mean()

optimizer = torch.optim.Adam(model.parameters(), lr=lr)

model.train()
for epoch in range(1, epochs + 1):
    total_loss = 0.0
    n_batches = 0
    for xb, yb in loader:
        xb = xb.to(device)
        yb = yb.to(device)
        logits = model(xb)
        loss = bce(logits, yb) + dice_loss(logits, yb)
        optimizer.zero_grad(set_to_none=True)
        loss.backward()
        optimizer.step()
        total_loss += float(loss.item())
        n_batches += 1
    avg = total_loss / max(n_batches, 1)
    print(f"Epoch {epoch:02d}/{epochs} - loss: {avg:.4f}")

model_path = os.path.join(out_dir, "unet_lakes.pth")
torch.save(model.state_dict(), model_path)
print("Saved model:", model_path)

# Inference on full RGB image with tiling and overlap-averaging
def predict_full_image_rgb(model, img3d, size=256, st=128, dev="cpu"):
    model.eval()
    H, W, C = img3d.shape
    pad_y = max(0, size - H)
    pad_x = max(0, size - W)
    if pad_y > 0 or pad_x > 0:
        img3d = np.pad(img3d, ((0, pad_y), (0, pad_x), (0, 0)), mode="edge")
    H2, W2, _ = img3d.shape

    ys = list(range(0, max(H2 - size + 1, 1), st))
    xs = list(range(0, max(W2 - size + 1, 1), st))
    if ys[-1] != H2 - size:
        ys.append(H2 - size)
    if xs[-1] != W2 - size:
        xs.append(W2 - size)

    prob_acc = np.zeros((H2, W2), dtype=np.float32)
    cnt_acc = np.zeros((H2, W2), dtype=np.float32)

    with torch.no_grad():
        for y in ys:
            for x in xs:
                patch = img3d[y:y+size, x:x+size, :]  # [size,size,3]
                inp = torch.from_numpy(patch).permute(2,0,1)[None, ...].float().to(dev)  # [1,3,H,W]
                logits = model(inp)
                probs = torch.sigmoid(logits)[0, 0].cpu().numpy()
                prob_acc[y:y+size, x:x+size] += probs
                cnt_acc[y:y+size, x:x+size] += 1.0

    prob_full = prob_acc / np.maximum(cnt_acc, 1e-8)
    prob_full = prob_full[:H, :W]
    return prob_full

probs = predict_full_image_rgb(model, img_np, size=patch_size, st=stride, dev=device)
pred_mask = (probs > 0.5).astype(np.uint8)

pred_mask_path = os.path.join(out_dir, "pred_mask_lakes.png")
Image.fromarray((pred_mask * 255).astype(np.uint8)).save(pred_mask_path)
print("Saved predicted mask:", pred_mask_path)

# Visualization: overlay predicted mask on RGB
overlay = img_np.copy()
# simple red overlay where mask==1
overlay[pred_mask == 1] = 0.6 * overlay[pred_mask == 1] + 0.4 * np.array([1.0, 0.0, 0.0], dtype=np.float32)

plt.figure(figsize=(18,6))
plt.subplot(1,3,1); plt.imshow(img_np); plt.title("RGB"); plt.axis("off")
plt.subplot(1,3,2); plt.imshow(pred_mask, cmap="gray"); plt.title("Predicted mask"); plt.axis("off")
plt.subplot(1,3,3); plt.imshow(overlay); plt.title("Overlay"); plt.axis("off")
plt.show()

overlay_path = os.path.join(out_dir, "overlay_lakes.png")
Image.fromarray((overlay * 255).astype(np.uint8)).save(overlay_path)
print("Saved overlay:", overlay_path)

# Notes
# - This example creates pseudo-labels tailored for water detection from RGB and trains a small U-Net to reproduce/refine them.
# - Adjust thresholds, patch_size, stride, and epochs depending on the image size and compute.
# - Outputs in outputs/unet_lakes/: pseudo_label_lake_mask.png, unet_lakes.pth, pred_mask_lakes.png, overlay_lakes.png.
